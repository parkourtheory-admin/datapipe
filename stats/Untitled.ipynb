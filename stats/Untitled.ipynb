{
 "cells": [
  {
   "cell_type": "code",
   "execution_count": 1,
   "metadata": {},
   "outputs": [],
   "source": [
    "import pandas as pd\n",
    "import numpy as np\n",
    "import networkx as nx\n",
    "from collections import defaultdict\n",
    "from pprint import pformat"
   ]
  },
  {
   "cell_type": "code",
   "execution_count": 2,
   "metadata": {},
   "outputs": [],
   "source": [
    "def label_dist(df, single=True):\n",
    "    dist = defaultdict(int)\n",
    "    \n",
    "    for i, row in df.iterrows():\n",
    "        if isinstance(row['type'], str):\n",
    "            if single:\n",
    "                types = row['type'].split('/')\n",
    "                for t in types:\n",
    "                    dist[t] += 1\n",
    "            else:\n",
    "                dist[row['type']] += 1\n",
    "    return dist"
   ]
  },
  {
   "cell_type": "code",
   "execution_count": 3,
   "metadata": {},
   "outputs": [],
   "source": [
    "def no_prereq(df):\n",
    "    return df.loc[df['prereq'].isnull()]"
   ]
  },
  {
   "cell_type": "code",
   "execution_count": 4,
   "metadata": {},
   "outputs": [],
   "source": [
    "def no_subseq(df):\n",
    "    return df.loc[df['subseq'].isnull()]"
   ]
  },
  {
   "cell_type": "code",
   "execution_count": 5,
   "metadata": {},
   "outputs": [],
   "source": [
    "def dataframe_to_edges(df, key, cols, delim=''):\n",
    "    for i, row in df.iterrows():\n",
    "        src = row[key]\n",
    "        for j in cols:\n",
    "            if isinstance(row[j], str):\n",
    "                for i in row[j].split(delim):\n",
    "                    yield (src, i)"
   ]
  },
  {
   "cell_type": "code",
   "execution_count": 6,
   "metadata": {},
   "outputs": [],
   "source": [
    "def dataframe_to_graph(df):\n",
    "    edges = dataframe_to_edges(df, 'name', ['prereq', 'subseq'], ', ')\n",
    "    G = nx.Graph(edges)\n",
    "\n",
    "    roots = no_prereq(df)\n",
    "    singles = no_subseq(roots)\n",
    "\n",
    "    for i, node in singles.iterrows():\n",
    "        G.add_node(node['name'])\n",
    "\n",
    "    return G"
   ]
  },
  {
   "cell_type": "code",
   "execution_count": 7,
   "metadata": {},
   "outputs": [],
   "source": [
    "src = '/media/ch3njus/Seagate4TB/research/parkourtheory/data/database/latest/moves.csv'\n",
    "df = pd.read_csv(src, dtype={'id': int})\n",
    "ml = label_dist(df, single=False)\n",
    "sl = label_dist(df, single=True)\n",
    "# multiclass = [(k, v) for k, v in sorted(dist.items(), key=lambda item: item[1], reverse=True)]\n",
    "print(f'multi-label: {len(ml)}\\tsingle-label: {len(sl)}')"
   ]
  },
  {
   "cell_type": "code",
   "execution_count": 8,
   "metadata": {},
   "outputs": [],
   "source": [
    "G = dataframe_to_graph(df)"
   ]
  },
  {
   "cell_type": "code",
   "execution_count": 9,
   "metadata": {},
   "outputs": [
    {
     "data": {
      "text/plain": [
       "1089"
      ]
     },
     "execution_count": 9,
     "metadata": {},
     "output_type": "execute_result"
    }
   ],
   "source": [
    "len(G.nodes())"
   ]
  },
  {
   "cell_type": "code",
   "execution_count": 10,
   "metadata": {},
   "outputs": [
    {
     "data": {
      "text/plain": [
       "1120"
      ]
     },
     "execution_count": 10,
     "metadata": {},
     "output_type": "execute_result"
    }
   ],
   "source": [
    "len(G.edges())"
   ]
  },
  {
   "cell_type": "code",
   "execution_count": null,
   "metadata": {},
   "outputs": [],
   "source": []
  }
 ],
 "metadata": {
  "kernelspec": {
   "display_name": "Python 3",
   "language": "python",
   "name": "python3"
  },
  "language_info": {
   "codemirror_mode": {
    "name": "ipython",
    "version": 3
   },
   "file_extension": ".py",
   "mimetype": "text/x-python",
   "name": "python",
   "nbconvert_exporter": "python",
   "pygments_lexer": "ipython3",
   "version": "3.7.6"
  }
 },
 "nbformat": 4,
 "nbformat_minor": 4
}
