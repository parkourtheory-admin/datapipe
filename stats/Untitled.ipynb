{
 "cells": [
  {
   "cell_type": "code",
   "execution_count": 1,
   "metadata": {},
   "outputs": [],
   "source": [
    "import os\n",
    "import pandas as pd\n",
    "import numpy as np\n",
    "import networkx as nx\n",
    "from collections import defaultdict\n",
    "from pprint import pformat"
   ]
  },
  {
   "cell_type": "code",
   "execution_count": 2,
   "metadata": {},
   "outputs": [],
   "source": [
    "move_path = '/media/ch3njus/Seagate4TB/research/parkourtheory/data/database/latest/moves.tsv'\n",
    "videos_path = '/media/ch3njus/Seagate4TB/research/parkourtheory/data/database/latest/videos.tsv'\n",
    "moves = pd.read_csv(move_path, dtype={'id': int}, sep='\\t')\n",
    "clips = pd.read_csv(videos_path, dtype={'id': int}, sep='\\t')"
   ]
  },
  {
   "cell_type": "code",
   "execution_count": null,
   "metadata": {},
   "outputs": [],
   "source": [
    "def label_dist(df, single=True):\n",
    "    dist = defaultdict(int)\n",
    "    \n",
    "    for i, row in df.iterrows():\n",
    "        if isinstance(row['type'], str):\n",
    "            if single:\n",
    "                types = row['type'].split('/')\n",
    "                for t in types:\n",
    "                    dist[t] += 1\n",
    "            else:\n",
    "                dist[row['type']] += 1\n",
    "    return dist"
   ]
  },
  {
   "cell_type": "code",
   "execution_count": null,
   "metadata": {},
   "outputs": [],
   "source": [
    "def no_prereq(df):\n",
    "    return df.loc[df['prereq'].isnull()]"
   ]
  },
  {
   "cell_type": "code",
   "execution_count": null,
   "metadata": {},
   "outputs": [],
   "source": [
    "def no_subseq(df):\n",
    "    return df.loc[df['subseq'].isnull()]"
   ]
  },
  {
   "cell_type": "code",
   "execution_count": null,
   "metadata": {},
   "outputs": [],
   "source": [
    "def dataframe_to_edges(df, key, cols, delim=''):\n",
    "    for i, row in df.iterrows():\n",
    "        src = row[key]\n",
    "        for j in cols:\n",
    "            if isinstance(row[j], str):\n",
    "                for i in row[j].split(delim):\n",
    "                    yield (src, i)"
   ]
  },
  {
   "cell_type": "code",
   "execution_count": null,
   "metadata": {},
   "outputs": [],
   "source": [
    "def dataframe_to_graph(df):\n",
    "    edges = dataframe_to_edges(df, 'name', ['prereq', 'subseq'], ', ')\n",
    "    G = nx.Graph(edges)\n",
    "\n",
    "    roots = no_prereq(df)\n",
    "    singles = no_subseq(roots)\n",
    "\n",
    "    for i, node in singles.iterrows():\n",
    "        G.add_node(node['name'])\n",
    "\n",
    "    return G"
   ]
  },
  {
   "cell_type": "code",
   "execution_count": null,
   "metadata": {},
   "outputs": [],
   "source": [
    "ml = label_dist(moves, single=False)\n",
    "sl = label_dist(moves, single=True)\n",
    "# multiclass = [(k, v) for k, v in sorted(dist.items(), key=lambda item: item[1], reverse=True)]\n",
    "print(f'multi-label: {len(ml)}\\tsingle-label: {len(sl)}')"
   ]
  },
  {
   "cell_type": "code",
   "execution_count": null,
   "metadata": {},
   "outputs": [],
   "source": [
    "G = dataframe_to_graph(df)"
   ]
  },
  {
   "cell_type": "code",
   "execution_count": null,
   "metadata": {},
   "outputs": [],
   "source": [
    "len(G.nodes())"
   ]
  },
  {
   "cell_type": "code",
   "execution_count": null,
   "metadata": {},
   "outputs": [],
   "source": [
    "len(G.edges())"
   ]
  },
  {
   "cell_type": "code",
   "execution_count": 4,
   "metadata": {},
   "outputs": [
    {
     "data": {
      "text/html": [
       "<div>\n",
       "<style scoped>\n",
       "    .dataframe tbody tr th:only-of-type {\n",
       "        vertical-align: middle;\n",
       "    }\n",
       "\n",
       "    .dataframe tbody tr th {\n",
       "        vertical-align: top;\n",
       "    }\n",
       "\n",
       "    .dataframe thead th {\n",
       "        text-align: right;\n",
       "    }\n",
       "</style>\n",
       "<table border=\"1\" class=\"dataframe\">\n",
       "  <thead>\n",
       "    <tr style=\"text-align: right;\">\n",
       "      <th></th>\n",
       "      <th>id</th>\n",
       "      <th>name</th>\n",
       "      <th>prereq</th>\n",
       "      <th>subseq</th>\n",
       "      <th>type</th>\n",
       "      <th>alias</th>\n",
       "      <th>description</th>\n",
       "      <th>title</th>\n",
       "      <th>channel</th>\n",
       "      <th>link</th>\n",
       "      <th>time</th>\n",
       "      <th>embed</th>\n",
       "    </tr>\n",
       "  </thead>\n",
       "  <tbody>\n",
       "    <tr>\n",
       "      <th>228</th>\n",
       "      <td>229</td>\n",
       "      <td>Inward Flyaway Catch</td>\n",
       "      <td>Inward Flyaway</td>\n",
       "      <td>NaN</td>\n",
       "      <td>Bar/Flip</td>\n",
       "      <td>Madrid</td>\n",
       "      <td>An Inward Flyaway to bar catch.</td>\n",
       "      <td>Inward Flyaway lache aka tkachev lache aka the...</td>\n",
       "      <td>)</td>\n",
       "      <td>Erica Madrid</td>\n",
       "      <td>https://www.youtube.com/watch?v=eOXU5Ee-_Aw</td>\n",
       "      <td>0:00</td>\n",
       "    </tr>\n",
       "  </tbody>\n",
       "</table>\n",
       "</div>"
      ],
      "text/plain": [
       "      id                  name          prereq subseq      type   alias  \\\n",
       "228  229  Inward Flyaway Catch  Inward Flyaway    NaN  Bar/Flip  Madrid   \n",
       "\n",
       "                         description  \\\n",
       "228  An Inward Flyaway to bar catch.   \n",
       "\n",
       "                                                 title channel          link  \\\n",
       "228  Inward Flyaway lache aka tkachev lache aka the...       )  Erica Madrid   \n",
       "\n",
       "                                            time embed  \n",
       "228  https://www.youtube.com/watch?v=eOXU5Ee-_Aw  0:00  "
      ]
     },
     "execution_count": 4,
     "metadata": {},
     "output_type": "execute_result"
    }
   ],
   "source": [
    "df = pd.merge(moves, clips, on='id')\n",
    "df.loc[df['embed'] == '0:00']"
   ]
  },
  {
   "cell_type": "code",
   "execution_count": null,
   "metadata": {},
   "outputs": [],
   "source": [
    "df = pd.merge(moves, clips, on='id')\n",
    "move_headers = moves.head()\n",
    "video_dir = '/media/ch3njus/Seagate4TB/research/parkourtheory/data/videos/production/'\n",
    "\n",
    "for i, row in df.iterrows():\n",
    "    curr_fn = os.path.join(video_dir, row['embed'])\n",
    "    new_embed = row['name'].replace(' ', '_').lower()+'.mp4'\n",
    "    new_fn = os.path.join(video_dir, new_embed)\n",
    "    \n",
    "    if row['embed'] != 'unavailable.mp4' and curr_fn != new_fn:\n",
    "        try:\n",
    "            if not os.path.exists(new_fn):\n",
    "                os.rename(curr_fn, new_fn)\n",
    "        except FileNotFoundError as e:\n",
    "            print(f'- [ ] {row[\"embed\"]}')\n",
    "    \n",
    "    df.at[i, 'embed'] = new_embed\n",
    "\n",
    "df = df.drop(move_headers, axis=1)"
   ]
  },
  {
   "cell_type": "code",
   "execution_count": null,
   "metadata": {},
   "outputs": [],
   "source": [
    "df.loc[df['embed'] == 'devil_drop_frisbee_full-down.mp4']"
   ]
  },
  {
   "cell_type": "code",
   "execution_count": null,
   "metadata": {},
   "outputs": [],
   "source": []
  }
 ],
 "metadata": {
  "kernelspec": {
   "display_name": "Python 3",
   "language": "python",
   "name": "python3"
  },
  "language_info": {
   "codemirror_mode": {
    "name": "ipython",
    "version": 3
   },
   "file_extension": ".py",
   "mimetype": "text/x-python",
   "name": "python",
   "nbconvert_exporter": "python",
   "pygments_lexer": "ipython3",
   "version": "3.7.6"
  }
 },
 "nbformat": 4,
 "nbformat_minor": 4
}
