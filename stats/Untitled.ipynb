{
 "cells": [
  {
   "cell_type": "code",
   "execution_count": 1,
   "metadata": {},
   "outputs": [],
   "source": [
    "import pandas as pd\n",
    "import numpy as np\n",
    "import networkx as nx\n",
    "from collections import defaultdict\n",
    "from pprint import pformat"
   ]
  },
  {
   "cell_type": "code",
   "execution_count": 2,
   "metadata": {},
   "outputs": [],
   "source": [
    "def label_dist(df, single=True):\n",
    "    dist = defaultdict(int)\n",
    "    \n",
    "    for i, row in df.iterrows():\n",
    "        if isinstance(row['type'], str):\n",
    "            if single:\n",
    "                types = row['type'].split('/')\n",
    "                for t in types:\n",
    "                    dist[t] += 1\n",
    "            else:\n",
    "                dist[row['type']] += 1\n",
    "    return dist"
   ]
  },
  {
   "cell_type": "code",
   "execution_count": 10,
   "metadata": {},
   "outputs": [
    {
     "name": "stdout",
     "output_type": "stream",
     "text": [
      "[('Wall/Flip', 210),\n",
      " ('Wall/Flip/Twist', 124),\n",
      " ('Flip', 101),\n",
      " ('Bar/Flip', 91),\n",
      " ('Flip/Twist', 78),\n",
      " ('Bar/Flip/Twist', 67),\n",
      " ('Vault/Flip', 56),\n",
      " ('Vault', 48),\n",
      " ('Vault/Flip/Twist', 34),\n",
      " ('Wall', 26),\n",
      " ('Beam/Flip', 25),\n",
      " ('Vault/Twist', 18),\n",
      " ('Bar', 18),\n",
      " ('Beam/Flip/Twist', 13),\n",
      " ('Roll/Twist', 11),\n",
      " ('Bar/Wall/Flip', 11),\n",
      " ('Wall/Twist', 10),\n",
      " ('Roll/Flip/Twist', 6),\n",
      " ('Vault/Beam', 6),\n",
      " ('Roll', 5),\n",
      " ('Vault/Wall', 5),\n",
      " ('Pole/Flip', 5),\n",
      " ('Wall/Flip/Roll', 5),\n",
      " ('Parallel Bar/Flip/Twist', 5),\n",
      " ('Roll/Flip', 4),\n",
      " ('Twist', 4),\n",
      " ('Vault/Roll', 4),\n",
      " ('Jump/Twist/Beam', 4),\n",
      " ('Bar/Twist', 4),\n",
      " ('Bar/Wall/Flip/Twist', 4),\n",
      " ('Beam/Wall/Flip', 4),\n",
      " ('Flip/Vault', 3),\n",
      " ('Pole/Flip/Twist', 3),\n",
      " ('Vault/Wall/Flip', 3),\n",
      " ('Bar/Flip/Roll', 3),\n",
      " ('Flip/Roll', 3),\n",
      " ('Bar/Roll/Twist', 3),\n",
      " ('Ceiling/Flip', 3),\n",
      " ('Wall/Beam/Flip', 3),\n",
      " ('Jump/Beam', 2),\n",
      " ('Flip/Bar', 2),\n",
      " ('Pole', 2),\n",
      " ('Bar/Wall', 2),\n",
      " ('Flip/Twist/Roll', 2),\n",
      " ('Wall/Roll', 2),\n",
      " ('Wall/Twist/Flip', 2),\n",
      " ('Pommel Horse/Flip', 2),\n",
      " ('Wall/Bar/Flip', 2),\n",
      " ('Parallel Bar/Flip', 2),\n",
      " ('Beam/Wall/Flip/Twist', 2),\n",
      " ('Pommel Horse/Flip/Twist', 2),\n",
      " ('Jump', 2),\n",
      " ('Wall/Jump', 2),\n",
      " ('Ceiling/Flip/Twist', 1),\n",
      " ('Wall/Bar/Flip/Twist', 1),\n",
      " ('Handstand', 1),\n",
      " ('Bar/Beam', 1),\n",
      " ('Flip/Twist/Twist', 1),\n",
      " ('Wall/Roll/Flip', 1),\n",
      " ('Vault/Twist/Roll', 1),\n",
      " ('Bar/Flip/Vault', 1),\n",
      " ('Pommel Horse/Wall/Flip', 1),\n",
      " ('Pommel Horse', 1),\n",
      " ('Vault/Roll/Twist', 1),\n",
      " ('Wall/Spin', 1),\n",
      " ('Wall/Spin/Twist', 1),\n",
      " ('Wall/Flip/Roll/Twist', 1),\n",
      " ('Bar/Flip/Twist/Roll', 1),\n",
      " ('Wall/Roll/Twist', 1),\n",
      " ('Bar/Wall/Flip/Roll', 1),\n",
      " ('Pole/Wall/Flip/Twist', 1),\n",
      " ('Pole/Wall/Flip', 1)]\n"
     ]
    }
   ],
   "source": [
    "df = pd.read_csv('/media/ch3njus/Seagate4TB/research/parkourtheory/data/database/latest/moves.csv')\n",
    "dist = label_dist(df, False)\n",
    "multiclass = [(k, v) for k, v in sorted(dist.items(), key=lambda item: item[1], reverse=True)]\n",
    "print(pformat(multiclass))"
   ]
  },
  {
   "cell_type": "code",
   "execution_count": null,
   "metadata": {},
   "outputs": [],
   "source": []
  },
  {
   "cell_type": "code",
   "execution_count": null,
   "metadata": {},
   "outputs": [],
   "source": []
  }
 ],
 "metadata": {
  "kernelspec": {
   "display_name": "Python 3",
   "language": "python",
   "name": "python3"
  },
  "language_info": {
   "codemirror_mode": {
    "name": "ipython",
    "version": 3
   },
   "file_extension": ".py",
   "mimetype": "text/x-python",
   "name": "python",
   "nbconvert_exporter": "python",
   "pygments_lexer": "ipython3",
   "version": "3.7.6"
  }
 },
 "nbformat": 4,
 "nbformat_minor": 4
}
